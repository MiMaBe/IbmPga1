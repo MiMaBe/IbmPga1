{
 "cells": [
  {
   "cell_type": "markdown",
   "id": "ab9dabc9-7458-48f5-8d4f-e23299536567",
   "metadata": {
    "tags": []
   },
   "source": [
    "# Data Science Tools and Ecosystem"
   ]
  },
  {
   "cell_type": "markdown",
   "id": "3439a00c-2050-4682-b880-949c9e848e5d",
   "metadata": {},
   "source": [
    "## Author\n",
    "Miguel Martinez"
   ]
  },
  {
   "cell_type": "markdown",
   "id": "0340a714-ba36-4d85-a749-c9afacfb5f14",
   "metadata": {},
   "source": [
    "In this notebook, Data Science Tools and Ecosystem are summarized."
   ]
  },
  {
   "cell_type": "markdown",
   "id": "387edb03-64cc-4a4c-8f5c-fc0d1b962c7b",
   "metadata": {},
   "source": [
    "**Objectives:**\n",
    "- List popular languages for Data Science\n",
    "- Perform simple arithmetic operations\n",
    "- List popular libraries for Data Science\n",
    "- List popular tools for Data Science"
   ]
  },
  {
   "cell_type": "markdown",
   "id": "8eb3d71a-4230-47a2-b4a2-aa734eef2bc2",
   "metadata": {},
   "source": [
    "Some of the popular languages that Data Scientists use are:\n",
    "1. Python\n",
    "2. R\n",
    "3. Scala"
   ]
  },
  {
   "cell_type": "markdown",
   "id": "0c6b01f9-91ff-4408-a283-742f71cb01d0",
   "metadata": {},
   "source": [
    "Some of the commonly used libraries used by Data Scientists include:\n",
    "1. NumPy\n",
    "2. SciPy\n",
    "3. Pandas"
   ]
  },
  {
   "cell_type": "markdown",
   "id": "f2d978d8-17e1-44bc-bb10-7c068a9d276f",
   "metadata": {},
   "source": [
    "<table>\n",
    "    <tr><th>Data Science Tools</th></tr>\n",
    "    <tr><td>Jupyter</td></tr>\n",
    "    <tr><td>Rstudio</td></tr>\n",
    "    <tr><td>Weka</td></tr>\n",
    "</table>\n",
    "    "
   ]
  },
  {
   "cell_type": "markdown",
   "id": "d1e8db5f-5bb3-4e26-94f8-85be72e1aefc",
   "metadata": {},
   "source": [
    "### Below are a few examples of evaluating arithmetic expressions in Python"
   ]
  },
  {
   "cell_type": "code",
   "execution_count": 8,
   "id": "b440af0c-829f-49d2-926a-d5a1e00f8009",
   "metadata": {
    "tags": []
   },
   "outputs": [
    {
     "data": {
      "text/plain": [
       "17"
      ]
     },
     "execution_count": 8,
     "metadata": {},
     "output_type": "execute_result"
    }
   ],
   "source": [
    "# This is a simple arithmetic expression to multiply then add integers\n",
    "(3*4)+5"
   ]
  },
  {
   "cell_type": "code",
   "execution_count": 7,
   "id": "d22160f3-b4ab-414b-8778-136817004e27",
   "metadata": {
    "tags": []
   },
   "outputs": [
    {
     "data": {
      "text/plain": [
       "3.3333333333333335"
      ]
     },
     "execution_count": 7,
     "metadata": {},
     "output_type": "execute_result"
    }
   ],
   "source": [
    "# This will convert 200 minutes to hours by dividing* by 60\n",
    "200/60"
   ]
  }
 ],
 "metadata": {
  "kernelspec": {
   "display_name": "Python",
   "language": "python",
   "name": "conda-env-python-py"
  },
  "language_info": {
   "codemirror_mode": {
    "name": "ipython",
    "version": 3
   },
   "file_extension": ".py",
   "mimetype": "text/x-python",
   "name": "python",
   "nbconvert_exporter": "python",
   "pygments_lexer": "ipython3",
   "version": "3.7.12"
  }
 },
 "nbformat": 4,
 "nbformat_minor": 5
}
